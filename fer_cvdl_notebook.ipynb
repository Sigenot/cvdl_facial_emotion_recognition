{
 "cells": [
  {
   "cell_type": "markdown",
   "id": "abac05a4",
   "metadata": {},
   "source": [
    "# Facial Emotion Recognition using Deep Learning"
   ]
  },
  {
   "cell_type": "markdown",
   "id": "832fa24f",
   "metadata": {},
   "source": [
    "The goal of the project is to develop a deep learning model that can accurately classify facial expressions into one of six categories: Angry, Disgust, Fear, Happy, Sad, and Surprise. To fulfill the scope of the project we separated the neutral expressions. We will use convolutional neural networks (CNNs) to train our model, as they have been shown to be effective in image classification tasks. Our approach involves training a CNN model from scratch using the FER-2013 dataset."
   ]
  },
  {
   "cell_type": "markdown",
   "id": "b3856976",
   "metadata": {},
   "source": [
    "## Data\n",
    "The FER-2013 dataset consists of 48x48 pixel grayscale images of faces that have been centered and that occupy a similar amount of space in each image. "
   ]
  },
  {
   "cell_type": "markdown",
   "id": "ec32232b",
   "metadata": {},
   "source": [
    "## Importing libraries"
   ]
  },
  {
   "cell_type": "markdown",
   "id": "87eb1e23",
   "metadata": {},
   "source": [
    "Import dataset, assign label, and convert img to array."
   ]
  },
  {
   "cell_type": "code",
   "execution_count": 1,
   "id": "16e9c96e",
   "metadata": {},
   "outputs": [
    {
     "name": "stderr",
     "output_type": "stream",
     "text": [
      "2025-07-17 11:39:17.714832: E external/local_xla/xla/stream_executor/cuda/cuda_fft.cc:467] Unable to register cuFFT factory: Attempting to register factory for plugin cuFFT when one has already been registered\n",
      "WARNING: All log messages before absl::InitializeLog() is called are written to STDERR\n",
      "E0000 00:00:1752745157.879332   25029 cuda_dnn.cc:8579] Unable to register cuDNN factory: Attempting to register factory for plugin cuDNN when one has already been registered\n",
      "E0000 00:00:1752745157.929057   25029 cuda_blas.cc:1407] Unable to register cuBLAS factory: Attempting to register factory for plugin cuBLAS when one has already been registered\n",
      "W0000 00:00:1752745158.154971   25029 computation_placer.cc:177] computation placer already registered. Please check linkage and avoid linking the same target more than once.\n",
      "W0000 00:00:1752745158.155067   25029 computation_placer.cc:177] computation placer already registered. Please check linkage and avoid linking the same target more than once.\n",
      "W0000 00:00:1752745158.155083   25029 computation_placer.cc:177] computation placer already registered. Please check linkage and avoid linking the same target more than once.\n",
      "W0000 00:00:1752745158.155094   25029 computation_placer.cc:177] computation placer already registered. Please check linkage and avoid linking the same target more than once.\n",
      "2025-07-17 11:39:18.190661: I tensorflow/core/platform/cpu_feature_guard.cc:210] This TensorFlow binary is optimized to use available CPU instructions in performance-critical operations.\n",
      "To enable the following instructions: AVX2 FMA, in other operations, rebuild TensorFlow with the appropriate compiler flags.\n",
      "/usr/lib/python3/dist-packages/scipy/__init__.py:146: UserWarning: A NumPy version >=1.17.3 and <1.25.0 is required for this version of SciPy (detected version 1.26.4\n",
      "  warnings.warn(f\"A NumPy version >={np_minversion} and <{np_maxversion}\"\n"
     ]
    },
    {
     "name": "stdout",
     "output_type": "stream",
     "text": [
      "Form of training data: (23744, 64, 64, 1) (23744, 6)\n"
     ]
    }
   ],
   "source": [
    "import os\n",
    "import cv2\n",
    "import numpy as np\n",
    "from keras.utils import to_categorical\n",
    "\n",
    "# path to folders\n",
    "dataset_path = 'dataset'\n",
    "\n",
    "# emotions and respective folders\n",
    "emotions = ['angry', 'disgust', 'fear', 'happy', 'sad', 'surprise']\n",
    "\n",
    "def load_img_and_lbl(dataset_type):\n",
    "    faces = []\n",
    "    labels = []\n",
    "    # iterating through file\n",
    "    for emotion_index, emotion in enumerate(emotions):\n",
    "        emotion_path = os.path.join(dataset_path, dataset_type, emotion)\n",
    "        for img_name in os.listdir(emotion_path):\n",
    "            img_path = os.path.join(emotion_path, img_name)\n",
    "            \n",
    "            # load image and convert to grayscale (designed redundantly)\n",
    "            img = cv2.imread(img_path, cv2.IMREAD_GRAYSCALE)\n",
    "            img = cv2.resize(img, (64,64))\n",
    "            \n",
    "            faces.append(img)\n",
    "            labels.append(emotion_index)\n",
    "            \n",
    "    # convert lists to numpyArrays\n",
    "    faces = np.asarray(faces)\n",
    "    labels = np.asarray(labels)\n",
    "\n",
    "    # normalizing images\n",
    "    faces = faces / 255.0\n",
    "\n",
    "    # convert labels\n",
    "    labels = to_categorical(labels, num_classes=len(emotions))\n",
    "    \n",
    "    # reshape for modell\n",
    "    faces = faces.reshape(faces.shape[0], 64, 64, 1)\n",
    "    \n",
    "    return faces, labels\n",
    "\n",
    "# load training- and testdata\n",
    "x_train, y_train = load_img_and_lbl('train')\n",
    "x_test, y_test = load_img_and_lbl('test')\n",
    "\n",
    "print(\"Form of training data:\", x_train.shape, y_train.shape)"
   ]
  },
  {
   "cell_type": "code",
   "execution_count": 2,
   "id": "ba23001c",
   "metadata": {},
   "outputs": [
    {
     "ename": "ImportError",
     "evalue": "cannot import name 'check_integrity' from 'torch.utils' (/home/tkr/.local/lib/python3.10/site-packages/torch/utils/__init__.py)",
     "output_type": "error",
     "traceback": [
      "\u001b[0;31m---------------------------------------------------------------------------\u001b[0m",
      "\u001b[0;31mImportError\u001b[0m                               Traceback (most recent call last)",
      "\u001b[0;32m/tmp/ipykernel_25029/3541794291.py\u001b[0m in \u001b[0;36m<module>\u001b[0;34m\u001b[0m\n\u001b[1;32m      4\u001b[0m \u001b[0;32mimport\u001b[0m \u001b[0mtorch\u001b[0m\u001b[0;34m\u001b[0m\u001b[0;34m\u001b[0m\u001b[0m\n\u001b[1;32m      5\u001b[0m \u001b[0;32mfrom\u001b[0m \u001b[0mPIL\u001b[0m \u001b[0;32mimport\u001b[0m \u001b[0mImage\u001b[0m\u001b[0;34m\u001b[0m\u001b[0;34m\u001b[0m\u001b[0m\n\u001b[0;32m----> 6\u001b[0;31m \u001b[0;32mfrom\u001b[0m \u001b[0mtorch\u001b[0m\u001b[0;34m.\u001b[0m\u001b[0mutils\u001b[0m \u001b[0;32mimport\u001b[0m \u001b[0mcheck_integrity\u001b[0m\u001b[0;34m,\u001b[0m \u001b[0mverify_str_arg\u001b[0m\u001b[0;34m\u001b[0m\u001b[0;34m\u001b[0m\u001b[0m\n\u001b[0m",
      "\u001b[0;31mImportError\u001b[0m: cannot import name 'check_integrity' from 'torch.utils' (/home/tkr/.local/lib/python3.10/site-packages/torch/utils/__init__.py)"
     ]
    }
   ],
   "source": [
    "import csv\n",
    "import pathlib\n",
    "from typing import Any, Callable, Optional, Union\n",
    "import torch\n",
    "from PIL import Image\n",
    "from torch.utils import check_integrity, verify_str_arg"
   ]
  }
 ],
 "metadata": {
  "kernelspec": {
   "display_name": "Python 3",
   "language": "python",
   "name": "python3"
  },
  "language_info": {
   "codemirror_mode": {
    "name": "ipython",
    "version": 3
   },
   "file_extension": ".py",
   "mimetype": "text/x-python",
   "name": "python",
   "nbconvert_exporter": "python",
   "pygments_lexer": "ipython3",
   "version": "3.10.12"
  }
 },
 "nbformat": 4,
 "nbformat_minor": 5
}
